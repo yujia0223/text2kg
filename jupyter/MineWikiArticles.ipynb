{
 "cells": [
  {
   "cell_type": "code",
   "execution_count": 1,
   "id": "c020c7d7",
   "metadata": {},
   "outputs": [],
   "source": [
    "import requests\n",
    "import pandas as pd\n",
    "from datasets import load_dataset, DatasetDict, Dataset\n",
    "from IPython.display import clear_output\n",
    "import regex as re\n",
    "import wikitextparser as wtp\n",
    "import mwparserfromhell as mwp\n",
    "import wikipedia as wiki"
   ]
  },
  {
   "cell_type": "code",
   "execution_count": 131,
   "id": "c87f44ae",
   "metadata": {},
   "outputs": [],
   "source": [
    "def parse_text(wikitext):\n",
    "    text = mwp.parse(wikitext)\n",
    "    text = text.strip_code()\n",
    "    return text"
   ]
  },
  {
   "cell_type": "code",
   "execution_count": 50,
   "id": "5e8fb3a1",
   "metadata": {},
   "outputs": [],
   "source": [
    "# Made with ChatGPT, modified to use wikipedia package.\n",
    "# Please note, due to the presence of disambiguation pages and empty articles there is no guarantee that num_articles\n",
    "# pages will be returned. Instead, at most num_articles will be returned.\n",
    "def mine_random_articles(num_articles):\n",
    "    endpoint = \"https://en.wikipedia.org/w/api.php\"\n",
    "    # Use UserAgent, gzip encoding in accordance with https://www.mediawiki.org/wiki/API:Etiquette\n",
    "    headers = {'User-Agent': 'UofATextToTriplesDatasetCreation (tsadler@ualberta.ca)',\n",
    "               \"Accept-Encoding\": \"gzip\"}\n",
    "    params = {\n",
    "        \"format\": \"json\",\n",
    "        \"action\": \"query\",\n",
    "        \"generator\": \"random\",\n",
    "        \"grnnamespace\": 0,\n",
    "        \"prop\": \"\",\n",
    "        \"grnlimit\": num_articles\n",
    "    }\n",
    "    summaries = []\n",
    "    response = requests.get(endpoint, params=params, headers=headers)\n",
    "    data = response.json()\n",
    "\n",
    "    random_articles = data[\"query\"][\"pages\"]\n",
    "    cnt = 0\n",
    "    #for i in range(0, len(random_articles), 50):\n",
    "    for article in random_articles:\n",
    "        cnt += 1\n",
    "        pageid = random_articles[article][\"pageid\"]\n",
    "#         page_endpoint = \"https://en.wikipedia.org/w/api.php\"\n",
    "#         page_params = {\n",
    "#             \"format\": \"json\",\n",
    "#             \"action\": \"parse\",\n",
    "#             \"prop\": \"text\",\n",
    "#             \"pageid\": ids\n",
    "#         }\n",
    "#         page_response = requests.get(page_endpoint, params=page_params)\n",
    "#         print(page_response)\n",
    "#         page_data = page_response.json()\n",
    "#         page = page_data[\"parse\"]\n",
    "        # Ensure pages that simply redirect to other pages are not included in data.\n",
    "        try:\n",
    "            page = wiki.page(pageid=pageid)\n",
    "        except wiki.DisambiguationError as e:\n",
    "            continue\n",
    "        if page.content.strip() != '':\n",
    "            summaries.append([page.title, page.content, pageid])\n",
    "        if cnt % 50 == 0:\n",
    "            print(cnt)\n",
    "    df = pd.DataFrame(summaries, columns=[\"title\", \"content\", \"pageid\"])\n",
    "    return df"
   ]
  },
  {
   "cell_type": "code",
   "execution_count": 51,
   "id": "017320e2",
   "metadata": {
    "scrolled": true
   },
   "outputs": [
    {
     "name": "stdout",
     "output_type": "stream",
     "text": [
      "50\n",
      "100\n",
      "150\n",
      "200\n",
      "250\n",
      "300\n",
      "350\n",
      "400\n",
      "450\n",
      "500\n"
     ]
    },
    {
     "data": {
      "text/html": [
       "<div>\n",
       "<style scoped>\n",
       "    .dataframe tbody tr th:only-of-type {\n",
       "        vertical-align: middle;\n",
       "    }\n",
       "\n",
       "    .dataframe tbody tr th {\n",
       "        vertical-align: top;\n",
       "    }\n",
       "\n",
       "    .dataframe thead th {\n",
       "        text-align: right;\n",
       "    }\n",
       "</style>\n",
       "<table border=\"1\" class=\"dataframe\">\n",
       "  <thead>\n",
       "    <tr style=\"text-align: right;\">\n",
       "      <th></th>\n",
       "      <th>title</th>\n",
       "      <th>content</th>\n",
       "      <th>pageid</th>\n",
       "    </tr>\n",
       "  </thead>\n",
       "  <tbody>\n",
       "    <tr>\n",
       "      <th>0</th>\n",
       "      <td>Fédération Internationale des Sociétés Magiques</td>\n",
       "      <td>The International Federation of Magic Societie...</td>\n",
       "      <td>3725569</td>\n",
       "    </tr>\n",
       "    <tr>\n",
       "      <th>1</th>\n",
       "      <td>1940 Campeonato Carioca</td>\n",
       "      <td>The 1940 edition of the Campeonato Carioca kic...</td>\n",
       "      <td>61221370</td>\n",
       "    </tr>\n",
       "    <tr>\n",
       "      <th>2</th>\n",
       "      <td>Hired armed cutter Duke of Clarence</td>\n",
       "      <td>His Majesty's hired armed cutter Duke of Clare...</td>\n",
       "      <td>51314039</td>\n",
       "    </tr>\n",
       "    <tr>\n",
       "      <th>3</th>\n",
       "      <td>46–48 Brown Street</td>\n",
       "      <td>46–48 Brown Street is a grade-II building in M...</td>\n",
       "      <td>37119562</td>\n",
       "    </tr>\n",
       "    <tr>\n",
       "      <th>4</th>\n",
       "      <td>Arrondissement of Alençon</td>\n",
       "      <td>The arrondissement of Alençon is an arrondisse...</td>\n",
       "      <td>3314509</td>\n",
       "    </tr>\n",
       "    <tr>\n",
       "      <th>...</th>\n",
       "      <td>...</td>\n",
       "      <td>...</td>\n",
       "      <td>...</td>\n",
       "    </tr>\n",
       "    <tr>\n",
       "      <th>473</th>\n",
       "      <td>Manon Antoniazzi</td>\n",
       "      <td>Manon Bonner Antoniazzi  (née Jenkins, previou...</td>\n",
       "      <td>54863689</td>\n",
       "    </tr>\n",
       "    <tr>\n",
       "      <th>474</th>\n",
       "      <td>Ghairat Baheer</td>\n",
       "      <td>Ghairat Baheer is a citizen of Afghanistan who...</td>\n",
       "      <td>33231477</td>\n",
       "    </tr>\n",
       "    <tr>\n",
       "      <th>475</th>\n",
       "      <td>Albert Khinchagov</td>\n",
       "      <td>Albert Omarovich Khinchagov (Russian: Альберт ...</td>\n",
       "      <td>68577589</td>\n",
       "    </tr>\n",
       "    <tr>\n",
       "      <th>476</th>\n",
       "      <td>NTR: Netsuzou Trap</td>\n",
       "      <td>NTR: Netsuzou Trap (Japanese: 捏造トラップ-NTR-, Hep...</td>\n",
       "      <td>51961711</td>\n",
       "    </tr>\n",
       "    <tr>\n",
       "      <th>477</th>\n",
       "      <td>Solomon Wigle</td>\n",
       "      <td>Solomon Wigle (May 14, 1822 – May 1, 1898) was...</td>\n",
       "      <td>9574317</td>\n",
       "    </tr>\n",
       "  </tbody>\n",
       "</table>\n",
       "<p>478 rows × 3 columns</p>\n",
       "</div>"
      ],
      "text/plain": [
       "                                               title  \\\n",
       "0    Fédération Internationale des Sociétés Magiques   \n",
       "1                            1940 Campeonato Carioca   \n",
       "2                Hired armed cutter Duke of Clarence   \n",
       "3                                 46–48 Brown Street   \n",
       "4                          Arrondissement of Alençon   \n",
       "..                                               ...   \n",
       "473                                 Manon Antoniazzi   \n",
       "474                                   Ghairat Baheer   \n",
       "475                                Albert Khinchagov   \n",
       "476                               NTR: Netsuzou Trap   \n",
       "477                                    Solomon Wigle   \n",
       "\n",
       "                                               content    pageid  \n",
       "0    The International Federation of Magic Societie...   3725569  \n",
       "1    The 1940 edition of the Campeonato Carioca kic...  61221370  \n",
       "2    His Majesty's hired armed cutter Duke of Clare...  51314039  \n",
       "3    46–48 Brown Street is a grade-II building in M...  37119562  \n",
       "4    The arrondissement of Alençon is an arrondisse...   3314509  \n",
       "..                                                 ...       ...  \n",
       "473  Manon Bonner Antoniazzi  (née Jenkins, previou...  54863689  \n",
       "474  Ghairat Baheer is a citizen of Afghanistan who...  33231477  \n",
       "475  Albert Omarovich Khinchagov (Russian: Альберт ...  68577589  \n",
       "476  NTR: Netsuzou Trap (Japanese: 捏造トラップ-NTR-, Hep...  51961711  \n",
       "477  Solomon Wigle (May 14, 1822 – May 1, 1898) was...   9574317  \n",
       "\n",
       "[478 rows x 3 columns]"
      ]
     },
     "execution_count": 51,
     "metadata": {},
     "output_type": "execute_result"
    }
   ],
   "source": [
    "# Maximum articles that can be mined at once seems to be 500.\n",
    "data_new = mine_random_articles(500)\n",
    "data_new"
   ]
  },
  {
   "cell_type": "code",
   "execution_count": 52,
   "id": "dfa841fe",
   "metadata": {},
   "outputs": [
    {
     "name": "stdout",
     "output_type": "stream",
     "text": [
      "2008 video game.mw-parser-output .infobox-subbox{padding:0;border:none;margin:-3px;width:auto;min-width:100%;font-size:100%;clear:none;float:none;background-color:transparent}.mw-parser-output .infobox-3cols-child{margin:auto}.mw-parser-output .infobox .navbar{font-size:100%}body.skin-minerva .mw-parser-output .infobox-header,body.skin-minerva .mw-parser-output .infobox-subheader,body.skin-minerva .mw-parser-output .infobox-above,body.skin-minerva .mw-parser-output .infobox-title,body.skin-minerva .mw-parser-output .infobox-image,body.skin-minerva .mw-parser-output .infobox-full-data,body.skin-minerva .mw-parser-output .infobox-below{text-align:center}.mw-parser-output .ib-video-game .infobox-label{white-space:nowrap;padding-right:0.65em}.mw-parser-output .ib-video-game .infobox-above{font-style:italic}Nancy Drew: The Haunting Of Castle MalloyDeveloper(s)Her InteractivePublisher(s)Her InteractivePlatform(s)Microsoft WindowsRelease.mw-parser-output .plainlist ol,.mw-parser-output .plainlist ul{line-height:inherit;list-style:none;margin:0;padding:0}.mw-parser-output .plainlist ol li,.mw-parser-output .plainlist ul li{margin-bottom:0}NA: October 16, 2008Genre(s)Adventure gameMode(s)Single-player\n",
      "The Haunting of Castle Malloy is the 19th installment in the Nancy Drew point-and-click adventure game series by Her Interactive. The game is available for play on Microsoft Windows platforms. It has an ESRB rating of E for moments of mild violence and peril. Players take on the first-person view of fictional amateur sleuth Nancy Drew and must solve the mystery through interrogation of suspects, solving puzzles, and discovering clues. There are two levels of gameplay, Junior and Senior detective modes, each offering a different difficulty level of puzzles and hints, however neither of these changes affects the actual plot of the game. The game is loosely based on a book entitled The Bike Tour Mystery (2002).[1][2]\n",
      "\n",
      "Plot[edit]\n",
      "Nancy Drew travels to Castle Malloy in Ireland to be the maid of honor in her friend Kyler Mallory's wedding. As Nancy drives towards the castle, a ghostly figure darts out in front of her car. The car crashes into a ditch, and Nancy is stuck at the site of a new mystery. Kyler's wedding was supposed to be the biggest event in Bailor since half the castle blew up sixty years ago, but now the groom is missing. Was he snatched by the banshee rumored to haunt the castle, or is this a case of cold feet? It's up to Nancy to find the groom and save this wedding.\n",
      "Development[edit]\n",
      "Characters[edit]\n",
      "Nancy Drew - Nancy is an 18-year-old amateur detective from the fictional town of River Heights in the United States. She is the only playable character in the game, which means the player must solve the mystery from her perspective.\n",
      "Kyler Mallory - Kyler is a stockbroker from London who lived with Nancy's family as an exchange student four years ago. She is now engaged to Matt Simmons and is excited to hold her wedding at Castle Malloy. Her grandfather, Edmund Mallory, recently died and named her as his sole beneficiary. He never spoke about his childhood and Kyler is just now learning about her true family history. She is certain that Matt is playing a prank.\n",
      "Matt Simmons - Matt is a travel and sailing freelance writer for magazines. Known for his dry wit, he loves to play pranks on others. He's marrying Kyler and wants to make the occasion something no one will ever forget, but has he gone too far this time?\n",
      "Kit Foley - Matt's best friend and accomplice on sailing trips. Kit was born in the US, but his family moved to London when Kit was young. He was never able to pick up the British accent. He currently works as a land developer, and he arrived early to help Matt and Kyler prepare for their wedding. He believes that Matt got cold-feet and ran away, but he won't admit that to Kyler.\n",
      "Donal Delany - Castle Malloy's ever-present caretaker, Donal has been overseeing the grounds for too many years to count. This Irish-born gentleman isn't particularly fond of foreigners, and he's the first to admit it. He is the resident expert on Irish mythology and lore, which might explain his superstitious nature. He believes that Matt was kidnapped by fairies.\n",
      "Cast[edit]\n",
      "Nancy Drew - Lani Minella\n",
      "Donal Delany - Evan Mosher\n",
      "Kyler Mallory - Alycia Delmore\n",
      "Kit Foley - Matthew C. Shimkus\n",
      "Matt Simmons - Peter Dylan O'Connor\n",
      "Alan Paine - Daniel Christenson\n",
      "Ned Nickerson - Scott Carty\n",
      "Bess Marvin - Jennifer Pratt\n",
      "George Fayne - Patty Pomplun\n",
      "Seamus - Jonah Von Spreekin [3]\n",
      "References[edit]\n",
      ".mw-parser-output .reflist{font-size:90%;margin-bottom:0.5em;list-style-type:decimal}.mw-parser-output .reflist .references{font-size:100%;margin-bottom:0;list-style-type:inherit}.mw-parser-output .reflist-columns-2{column-width:30em}.mw-parser-output .reflist-columns-3{column-width:25em}.mw-parser-output .reflist-columns{margin-top:0.3em}.mw-parser-output .reflist-columns ol{margin-top:0}.mw-parser-output .reflist-columns li{page-break-inside:avoid;break-inside:avoid-column}.mw-parser-output .reflist-upper-alpha{list-style-type:upper-alpha}.mw-parser-output .reflist-upper-roman{list-style-type:upper-roman}.mw-parser-output .reflist-lower-alpha{list-style-type:lower-alpha}.mw-parser-output .reflist-lower-greek{list-style-type:lower-greek}.mw-parser-output .reflist-lower-roman{list-style-type:lower-roman}^ .mw-parser-output cite.citation{font-style:inherit;word-wrap:break-word}.mw-parser-output .citation q{quotes:\"\\\"\"\"\\\"\"\"'\"\"'\"}.mw-parser-output .citation:target{background-color:rgba(0,127,255,0.133)}.mw-parser-output .id-lock-free a,.mw-parser-output .citation .cs1-lock-free a{background:url(\"//upload.wikimedia.org/wikipedia/commons/6/65/Lock-green.svg\")right 0.1em center/9px no-repeat}.mw-parser-output .id-lock-limited a,.mw-parser-output .id-lock-registration a,.mw-parser-output .citation .cs1-lock-limited a,.mw-parser-output .citation .cs1-lock-registration a{background:url(\"//upload.wikimedia.org/wikipedia/commons/d/d6/Lock-gray-alt-2.svg\")right 0.1em center/9px no-repeat}.mw-parser-output .id-lock-subscription a,.mw-parser-output .citation .cs1-lock-subscription a{background:url(\"//upload.wikimedia.org/wikipedia/commons/a/aa/Lock-red-alt-2.svg\")right 0.1em center/9px no-repeat}.mw-parser-output .cs1-ws-icon a{background:url(\"//upload.wikimedia.org/wikipedia/commons/4/4c/Wikisource-logo.svg\")right 0.1em center/12px no-repeat}.mw-parser-output .cs1-code{color:inherit;background:inherit;border:none;padding:inherit}.mw-parser-output .cs1-hidden-error{display:none;color:#d33}.mw-parser-output .cs1-visible-error{color:#d33}.mw-parser-output .cs1-maint{display:none;color:#3a3;margin-left:0.3em}.mw-parser-output .cs1-format{font-size:95%}.mw-parser-output .cs1-kern-left{padding-left:0.2em}.mw-parser-output .cs1-kern-right{padding-right:0.2em}.mw-parser-output .citation .mw-selflink{font-weight:inherit}\"The Haunting of Castle Malloy Teaser Trailer\". Archived from the original on 2021-12-21 – via YouTube.\n",
      "^ \"Nancy Drew The Haunting of Castle Malloy | Girl Games Online\". Her Interactive. Archived from the original on July 5, 2013. Retrieved June 22, 2013.\n",
      "^ \"Nancy Drew The Haunting of Castle Malloy IMDb\". IMDb.\n",
      "Preceded byNancy Drew: The Phantom of Venice\n",
      " Nancy Drew Computer Games \n",
      "Succeeded byNancy Drew: Ransom of the Seven Ships\n",
      ".mw-parser-output .hlist dl,.mw-parser-output .hlist ol,.mw-parser-output .hlist ul{margin:0;padding:0}.mw-parser-output .hlist dd,.mw-parser-output .hlist dt,.mw-parser-output .hlist li{margin:0;display:inline}.mw-parser-output .hlist.inline,.mw-parser-output .hlist.inline dl,.mw-parser-output .hlist.inline ol,.mw-parser-output .hlist.inline ul,.mw-parser-output .hlist dl dl,.mw-parser-output .hlist dl ol,.mw-parser-output .hlist dl ul,.mw-parser-output .hlist ol dl,.mw-parser-output .hlist ol ol,.mw-parser-output .hlist ol ul,.mw-parser-output .hlist ul dl,.mw-parser-output .hlist ul ol,.mw-parser-output .hlist ul ul{display:inline}.mw-parser-output .hlist .mw-empty-li{display:none}.mw-parser-output .hlist dt::after{content:\": \"}.mw-parser-output .hlist dd::after,.mw-parser-output .hlist li::after{content:\" · \";font-weight:bold}.mw-parser-output .hlist dd:last-child::after,.mw-parser-output .hlist dt:last-child::after,.mw-parser-output .hlist li:last-child::after{content:none}.mw-parser-output .hlist dd dd:first-child::before,.mw-parser-output .hlist dd dt:first-child::before,.mw-parser-output .hlist dd li:first-child::before,.mw-parser-output .hlist dt dd:first-child::before,.mw-parser-output .hlist dt dt:first-child::before,.mw-parser-output .hlist dt li:first-child::before,.mw-parser-output .hlist li dd:first-child::before,.mw-parser-output .hlist li dt:first-child::before,.mw-parser-output .hlist li li:first-child::before{content:\" (\";font-weight:normal}.mw-parser-output .hlist dd dd:last-child::after,.mw-parser-output .hlist dd dt:last-child::after,.mw-parser-output .hlist dd li:last-child::after,.mw-parser-output .hlist dt dd:last-child::after,.mw-parser-output .hlist dt dt:last-child::after,.mw-parser-output .hlist dt li:last-child::after,.mw-parser-output .hlist li dd:last-child::after,.mw-parser-output .hlist li dt:last-child::after,.mw-parser-output .hlist li li:last-child::after{content:\")\";font-weight:normal}.mw-parser-output .hlist ol{counter-reset:listitem}.mw-parser-output .hlist ol>li{counter-increment:listitem}.mw-parser-output .hlist ol>li::before{content:\" \"counter(listitem)\"\\a0 \"}.mw-parser-output .hlist dd ol>li:first-child::before,.mw-parser-output .hlist dt ol>li:first-child::before,.mw-parser-output .hlist li ol>li:first-child::before{content:\" (\"counter(listitem)\"\\a0 \"}.mw-parser-output .navbox{box-sizing:border-box;border:1px solid #a2a9b1;width:100%;clear:both;font-size:88%;text-align:center;padding:1px;margin:1em auto 0}.mw-parser-output .navbox .navbox{margin-top:0}.mw-parser-output .navbox+.navbox,.mw-parser-output .navbox+.navbox-styles+.navbox{margin-top:-1px}.mw-parser-output .navbox-inner,.mw-parser-output .navbox-subgroup{width:100%}.mw-parser-output .navbox-group,.mw-parser-output .navbox-title,.mw-parser-output .navbox-abovebelow{padding:0.25em 1em;line-height:1.5em;text-align:center}.mw-parser-output .navbox-group{white-space:nowrap;text-align:right}.mw-parser-output .navbox,.mw-parser-output .navbox-subgroup{background-color:#fdfdfd}.mw-parser-output .navbox-list{line-height:1.5em;border-color:#fdfdfd}.mw-parser-output .navbox-list-with-group{text-align:left;border-left-width:2px;border-left-style:solid}.mw-parser-output tr+tr>.navbox-abovebelow,.mw-parser-output tr+tr>.navbox-group,.mw-parser-output tr+tr>.navbox-image,.mw-parser-output tr+tr>.navbox-list{border-top:2px solid #fdfdfd}.mw-parser-output .navbox-title{background-color:#ccf}.mw-parser-output .navbox-abovebelow,.mw-parser-output .navbox-group,.mw-parser-output .navbox-subgroup .navbox-title{background-color:#ddf}.mw-parser-output .navbox-subgroup .navbox-group,.mw-parser-output .navbox-subgroup .navbox-abovebelow{background-color:#e6e6ff}.mw-parser-output .navbox-even{background-color:#f7f7f7}.mw-parser-output .navbox-odd{background-color:transparent}.mw-parser-output .navbox .hlist td dl,.mw-parser-output .navbox .hlist td ol,.mw-parser-output .navbox .hlist td ul,.mw-parser-output .navbox td.hlist dl,.mw-parser-output .navbox td.hlist ol,.mw-parser-output .navbox td.hlist ul{padding:0.125em 0}.mw-parser-output .navbox .navbar{display:block;font-size:100%}.mw-parser-output .navbox-title .navbar{float:left;text-align:left;margin-right:0.5em}.mw-parser-output .navbar{display:inline;font-size:88%;font-weight:normal}.mw-parser-output .navbar-collapse{float:left;text-align:left}.mw-parser-output .navbar-boxtext{word-spacing:0}.mw-parser-output .navbar ul{display:inline-block;white-space:nowrap;line-height:inherit}.mw-parser-output .navbar-brackets::before{margin-right:-0.125em;content:\"[ \"}.mw-parser-output .navbar-brackets::after{margin-left:-0.125em;content:\" ]\"}.mw-parser-output .navbar li{word-spacing:-0.125em}.mw-parser-output .navbar a>span,.mw-parser-output .navbar a>abbr{text-decoration:inherit}.mw-parser-output .navbar-mini abbr{font-variant:small-caps;border-bottom:none;text-decoration:none;cursor:inherit}.mw-parser-output .navbar-ct-full{font-size:114%;margin:0 7em}.mw-parser-output .navbar-ct-mini{font-size:114%;margin:0 4em}vteNancy DrewStratemeyer Syndicate\n",
      "Carolyn Keene\n",
      "Edward StratemeyerCharactersNancy Drew\n",
      "George Fayne\n",
      "Ned NickersonWritersMildred Benson\n",
      "Walter Karig\n",
      "Harriet Adams\n",
      "Susan Wittig Albert\n",
      "George Edward Stanley\n",
      "James D. LawrenceSee alsoThe Hardy Boys\n",
      "Tom Swift\n",
      "TV series\n",
      "The Dana GirlsBooksNancy Drew Mystery StoriesThe Secret of the Old Clock (1930)\n",
      "The Hidden Staircase (1930)\n",
      "The Bungalow Mystery (1930)\n",
      "The Mystery at Lilac Inn (1931)\n",
      "The Secret at Shadow Ranch (1931)\n",
      "The Secret of Red Gate Farm (1931)\n",
      "The Clue in the Diary (1932)\n",
      "Nancy's Mysterious Letter (1932)\n",
      "The Sign of the Twisted Candles (1933)\n",
      "The Password to Larkspur Lane (1933)\n",
      "The Clue of the Broken Locket (1934)\n",
      "The Message in the Hollow Oak (1935)\n",
      "The Mystery of the Ivory Charm (1936)\n",
      "The Whispering Statue (1937)\n",
      "The Haunted Bridge (1937)\n",
      "The Clue of the Tapping Heels (1939)\n",
      "The Mystery of the Brass Bound Trunk (1940)\n",
      "The Mystery at the Moss-Covered Mansion (1941)\n",
      "The Quest of the Missing Map (1942)\n",
      "The Clue in the Jewel Box (1943)\n",
      "The Secret in the Old Attic (1944)\n",
      "The Clue in the Crumbling Wall (1945)\n",
      "The Mystery of the Tolling Bell (1946)\n",
      "The Clue in the Old Album (1947)\n",
      "The Ghost of Blackwood Hall (1948)\n",
      "The Clue of the Leaning Chimney (1949)\n",
      "The Secret of the Wooden Lady (1950)\n",
      "The Clue of the Black Keys (1951)\n",
      "The Mystery at the Ski Jump (1952)\n",
      "The Clue of the Velvet Mask (1953)\n",
      "The Ringmaster's Secret (1953)\n",
      "The Scarlet Slipper Mystery (1954)\n",
      "The Witch Tree Symbol (1955)\n",
      "The Hidden Window Mystery (1956)\n",
      "The Haunted Showboat (1957)\n",
      "The Secret of the Golden Pavilion (1959)\n",
      "The Clue in the Old Stagecoach (1960)\n",
      "The Mystery of the Fire Dragon (1961)\n",
      "The Clue of the Dancing Puppet (1962)\n",
      "The Moonstone Castle Mystery (1963)\n",
      "The Clue of the Whistling Bagpipes (1964)\n",
      "The Phantom of Pine Hill (1965)\n",
      "The Mystery of the 99 Steps (1966)\n",
      "The Clue in the Crossword Cipher (1967)\n",
      "The Spider Sapphire Mystery (1968)\n",
      "The Invisible Intruder (1969)\n",
      "The Mysterious Mannequin (1970)\n",
      "The Crooked Banister (1971)\n",
      "The Secret of Mirror Bay (1972)\n",
      "The Double Jinx Mystery (1973)\n",
      "Mystery of the Glowing Eye (1974)\n",
      "The Secret of the Forgotten City (1975)\n",
      "The Sky Phantom (1976)\n",
      "The Strange Message in the Parchment (1977)\n",
      "Mystery of Crocodile Island (1978)\n",
      "The Thirteenth Pearl (1979)\n",
      "The Triple Hoax (1979)\n",
      "The Flying Saucer Mystery (1980)\n",
      "The Secret in the Old Lace (1980)\n",
      "The Greek Symbol Mystery (1980)\n",
      "The Swami's Ring (1981)\n",
      "The Kachina Doll Mystery (1981)\n",
      "The Twin Dilemma (1981)\n",
      "Captive Witness (1981)\n",
      "Race Against Time (1982)\n",
      "The Broken Anchor (1983)\n",
      "The Mardi Gras Mystery (1988)\n",
      "The Case of the Rising Stars (1988)\n",
      "The Mystery of the Masked Rider (1992)\n",
      "The Treasure in the Royal Tower (1995)\n",
      "The Wedding Day Mystery (1997)\n",
      "The E-mail Mystery (1998)\n",
      "Whispers in the Fog (2000)\n",
      "The Legend of the Emerald Lady (2000)\n",
      "Mystery By Moonlight (2002)\n",
      "The Bike Tour Mystery (2002)\n",
      "The Mistletoe Mystery (2002)\n",
      "No Strings Attached (2003)\n",
      "The Riding Club Crime (2003)\n",
      "Danger on the Great Lakes (2003)\n",
      "Werewolf in a Winter Wonderland (2003)Other seriesThe Nancy Drew Files (1986-97)\n",
      "Nancy Drew Notebooks (1993-2005)\n",
      "Nancy Drew on Campus (1995-98)\n",
      "Nancy Drew: Girl Detective (2004-12)\n",
      "Nancy Drew and the Clue Crew (2006-15)\n",
      "Nancy Drew Diaries (2013-present)\n",
      "Nancy Drew Clue Book (2015-present)Hardy Boys crossoversBe a Detective Mystery Stories (1984-85)\n",
      "Nancy Drew & Hardy Boys Supermystery (1988-98)\n",
      "Nancy Drew and the Hardy Boys Super Mystery (2007-12)Other mediaVideo gamesSecrets Can Kill (1998) (Remastered, 2010)\n",
      "Stay Tuned for Danger (1999)\n",
      "Message in a Haunted Mansion (2000)\n",
      "Treasure in the Royal Tower (2001)\n",
      "The Final Scene (2001)\n",
      "Secret of the Scarlet Hand (2002)\n",
      "Ghost Dogs of Moon Lake (2002)\n",
      "The Haunted Carousel (2003)\n",
      "Danger on Deception Island (2003)\n",
      "The Secret of Shadow Ranch (2004)\n",
      "Curse of Blackmoor Manor (2004)\n",
      "Secret of the Old Clock (2005)\n",
      "Last Train to Blue Moon Canyon (2005)\n",
      "Danger By Design (2006)\n",
      "The Creature of Kapu Cave (2006)\n",
      "The White Wolf of Icicle Creek (2007)\n",
      "Legend of the Crystal Skull (2007)\n",
      "The Phantom of Venice (2008)\n",
      "The Haunting of Castle Malloy (2008)\n",
      "Dossier: Lights, Camera, Curses (2008)\n",
      "Ransom of the Seven Ships (2009)\n",
      "Dossier: Resorting to Danger (2009)\n",
      "Warnings at Waverly Academy (2009)\n",
      "Trail of the Twister (2010)\n",
      "Shadow at the Water's Edge (2010)\n",
      "The Captive Curse (2011)\n",
      "Alibi in Ashes (2011)\n",
      "Tomb of the Lost Queen (2012)\n",
      "The Deadly Device (2012)\n",
      "Ghost of Thornton Hall (2013)\n",
      "The Silent Spy (2013)\n",
      "The Shattered Medallion (2014)\n",
      "Labyrinth of Lies (2014)\n",
      "Sea of Darkness (2015)\n",
      "Midnight in Salem (2019)Film and televisionNancy Drew: Detective (1938 film)\n",
      "Nancy Drew: Reporter (1939 film)\n",
      "Nancy Drew: Trouble Shooter (1939 film)\n",
      "Nancy Drew and the Hidden Staircase  (1939 film)\n",
      "The Hardy Boys/Nancy Drew Mysteries (1977 TV series)\n",
      "Nancy Drew (1995 TV series)\n",
      "Nancy Drew (2002 TV movie)\n",
      "Nancy Drew (2007 film)\n",
      "Nancy Drew and the Hidden Staircase (2019 film)\n",
      "Nancy Drew (2019 TV series)\n",
      "Authority control: National France\n",
      "BnF data\n"
     ]
    }
   ],
   "source": [
    "print(data[\"content\"][10])"
   ]
  },
  {
   "cell_type": "code",
   "execution_count": 53,
   "id": "b1bf66fa",
   "metadata": {},
   "outputs": [
    {
     "data": {
      "text/html": [
       "<div>\n",
       "<style scoped>\n",
       "    .dataframe tbody tr th:only-of-type {\n",
       "        vertical-align: middle;\n",
       "    }\n",
       "\n",
       "    .dataframe tbody tr th {\n",
       "        vertical-align: top;\n",
       "    }\n",
       "\n",
       "    .dataframe thead th {\n",
       "        text-align: right;\n",
       "    }\n",
       "</style>\n",
       "<table border=\"1\" class=\"dataframe\">\n",
       "  <thead>\n",
       "    <tr style=\"text-align: right;\">\n",
       "      <th></th>\n",
       "      <th>title</th>\n",
       "      <th>content</th>\n",
       "      <th>pageid</th>\n",
       "    </tr>\n",
       "  </thead>\n",
       "  <tbody>\n",
       "    <tr>\n",
       "      <th>0</th>\n",
       "      <td>Fédération Internationale des Sociétés Magiques</td>\n",
       "      <td>The International Federation of Magic Societie...</td>\n",
       "      <td>3725569</td>\n",
       "    </tr>\n",
       "    <tr>\n",
       "      <th>1</th>\n",
       "      <td>1940 Campeonato Carioca</td>\n",
       "      <td>The 1940 edition of the Campeonato Carioca kic...</td>\n",
       "      <td>61221370</td>\n",
       "    </tr>\n",
       "    <tr>\n",
       "      <th>2</th>\n",
       "      <td>Hired armed cutter Duke of Clarence</td>\n",
       "      <td>His Majesty's hired armed cutter Duke of Clare...</td>\n",
       "      <td>51314039</td>\n",
       "    </tr>\n",
       "    <tr>\n",
       "      <th>3</th>\n",
       "      <td>46–48 Brown Street</td>\n",
       "      <td>46–48 Brown Street is a grade-II building in M...</td>\n",
       "      <td>37119562</td>\n",
       "    </tr>\n",
       "    <tr>\n",
       "      <th>4</th>\n",
       "      <td>Arrondissement of Alençon</td>\n",
       "      <td>The arrondissement of Alençon is an arrondisse...</td>\n",
       "      <td>3314509</td>\n",
       "    </tr>\n",
       "    <tr>\n",
       "      <th>...</th>\n",
       "      <td>...</td>\n",
       "      <td>...</td>\n",
       "      <td>...</td>\n",
       "    </tr>\n",
       "    <tr>\n",
       "      <th>473</th>\n",
       "      <td>Manon Antoniazzi</td>\n",
       "      <td>Manon Bonner Antoniazzi  (née Jenkins, previou...</td>\n",
       "      <td>54863689</td>\n",
       "    </tr>\n",
       "    <tr>\n",
       "      <th>474</th>\n",
       "      <td>Ghairat Baheer</td>\n",
       "      <td>Ghairat Baheer is a citizen of Afghanistan who...</td>\n",
       "      <td>33231477</td>\n",
       "    </tr>\n",
       "    <tr>\n",
       "      <th>475</th>\n",
       "      <td>Albert Khinchagov</td>\n",
       "      <td>Albert Omarovich Khinchagov (Russian: Альберт ...</td>\n",
       "      <td>68577589</td>\n",
       "    </tr>\n",
       "    <tr>\n",
       "      <th>476</th>\n",
       "      <td>NTR: Netsuzou Trap</td>\n",
       "      <td>NTR: Netsuzou Trap (Japanese: 捏造トラップ-NTR-, Hep...</td>\n",
       "      <td>51961711</td>\n",
       "    </tr>\n",
       "    <tr>\n",
       "      <th>477</th>\n",
       "      <td>Solomon Wigle</td>\n",
       "      <td>Solomon Wigle (May 14, 1822 – May 1, 1898) was...</td>\n",
       "      <td>9574317</td>\n",
       "    </tr>\n",
       "  </tbody>\n",
       "</table>\n",
       "<p>478 rows × 3 columns</p>\n",
       "</div>"
      ],
      "text/plain": [
       "                                               title  \\\n",
       "0    Fédération Internationale des Sociétés Magiques   \n",
       "1                            1940 Campeonato Carioca   \n",
       "2                Hired armed cutter Duke of Clarence   \n",
       "3                                 46–48 Brown Street   \n",
       "4                          Arrondissement of Alençon   \n",
       "..                                               ...   \n",
       "473                                 Manon Antoniazzi   \n",
       "474                                   Ghairat Baheer   \n",
       "475                                Albert Khinchagov   \n",
       "476                               NTR: Netsuzou Trap   \n",
       "477                                    Solomon Wigle   \n",
       "\n",
       "                                               content    pageid  \n",
       "0    The International Federation of Magic Societie...   3725569  \n",
       "1    The 1940 edition of the Campeonato Carioca kic...  61221370  \n",
       "2    His Majesty's hired armed cutter Duke of Clare...  51314039  \n",
       "3    46–48 Brown Street is a grade-II building in M...  37119562  \n",
       "4    The arrondissement of Alençon is an arrondisse...   3314509  \n",
       "..                                                 ...       ...  \n",
       "473  Manon Bonner Antoniazzi  (née Jenkins, previou...  54863689  \n",
       "474  Ghairat Baheer is a citizen of Afghanistan who...  33231477  \n",
       "475  Albert Omarovich Khinchagov (Russian: Альберт ...  68577589  \n",
       "476  NTR: Netsuzou Trap (Japanese: 捏造トラップ-NTR-, Hep...  51961711  \n",
       "477  Solomon Wigle (May 14, 1822 – May 1, 1898) was...   9574317  \n",
       "\n",
       "[478 rows x 3 columns]"
      ]
     },
     "execution_count": 53,
     "metadata": {},
     "output_type": "execute_result"
    }
   ],
   "source": [
    "data_new"
   ]
  },
  {
   "cell_type": "code",
   "execution_count": 54,
   "id": "86795e48",
   "metadata": {},
   "outputs": [],
   "source": [
    "data = pd.concat([data, data_new])\n",
    "data = data.reindex()"
   ]
  },
  {
   "cell_type": "code",
   "execution_count": 103,
   "id": "16124309",
   "metadata": {},
   "outputs": [
    {
     "data": {
      "text/html": [
       "<div>\n",
       "<style scoped>\n",
       "    .dataframe tbody tr th:only-of-type {\n",
       "        vertical-align: middle;\n",
       "    }\n",
       "\n",
       "    .dataframe tbody tr th {\n",
       "        vertical-align: top;\n",
       "    }\n",
       "\n",
       "    .dataframe thead th {\n",
       "        text-align: right;\n",
       "    }\n",
       "</style>\n",
       "<table border=\"1\" class=\"dataframe\">\n",
       "  <thead>\n",
       "    <tr style=\"text-align: right;\">\n",
       "      <th></th>\n",
       "      <th>title</th>\n",
       "      <th>content</th>\n",
       "      <th>pageid</th>\n",
       "    </tr>\n",
       "  </thead>\n",
       "  <tbody>\n",
       "    <tr>\n",
       "      <th>0</th>\n",
       "      <td>Niyola</td>\n",
       "      <td>Eniola Akinbo (Listen; born 9 December 1985), ...</td>\n",
       "      <td>43433888</td>\n",
       "    </tr>\n",
       "    <tr>\n",
       "      <th>1</th>\n",
       "      <td>Narayan nagbali</td>\n",
       "      <td>Narayan Nagbali is a three-day Hindu ritual pe...</td>\n",
       "      <td>4736808</td>\n",
       "    </tr>\n",
       "    <tr>\n",
       "      <th>2</th>\n",
       "      <td>Emerson Alcântara</td>\n",
       "      <td>Emerson Ricardo Alcântara (born 27 August 1970...</td>\n",
       "      <td>37125814</td>\n",
       "    </tr>\n",
       "    <tr>\n",
       "      <th>3</th>\n",
       "      <td>Red Scapular of the Passion</td>\n",
       "      <td>The Red Scapular of the Passion of Our Lord an...</td>\n",
       "      <td>21270348</td>\n",
       "    </tr>\n",
       "    <tr>\n",
       "      <th>4</th>\n",
       "      <td>Scott Walker: 30 Century Man</td>\n",
       "      <td>Scott Walker: 30 Century Man is a 2006 documen...</td>\n",
       "      <td>4636743</td>\n",
       "    </tr>\n",
       "    <tr>\n",
       "      <th>...</th>\n",
       "      <td>...</td>\n",
       "      <td>...</td>\n",
       "      <td>...</td>\n",
       "    </tr>\n",
       "    <tr>\n",
       "      <th>942</th>\n",
       "      <td>Manon Antoniazzi</td>\n",
       "      <td>Manon Bonner Antoniazzi  (née Jenkins, previou...</td>\n",
       "      <td>54863689</td>\n",
       "    </tr>\n",
       "    <tr>\n",
       "      <th>943</th>\n",
       "      <td>Ghairat Baheer</td>\n",
       "      <td>Ghairat Baheer is a citizen of Afghanistan who...</td>\n",
       "      <td>33231477</td>\n",
       "    </tr>\n",
       "    <tr>\n",
       "      <th>944</th>\n",
       "      <td>Albert Khinchagov</td>\n",
       "      <td>Albert Omarovich Khinchagov (Russian: Альберт ...</td>\n",
       "      <td>68577589</td>\n",
       "    </tr>\n",
       "    <tr>\n",
       "      <th>945</th>\n",
       "      <td>NTR: Netsuzou Trap</td>\n",
       "      <td>NTR: Netsuzou Trap (Japanese: 捏造トラップ-NTR-, Hep...</td>\n",
       "      <td>51961711</td>\n",
       "    </tr>\n",
       "    <tr>\n",
       "      <th>946</th>\n",
       "      <td>Solomon Wigle</td>\n",
       "      <td>Solomon Wigle (May 14, 1822 – May 1, 1898) was...</td>\n",
       "      <td>9574317</td>\n",
       "    </tr>\n",
       "  </tbody>\n",
       "</table>\n",
       "<p>947 rows × 3 columns</p>\n",
       "</div>"
      ],
      "text/plain": [
       "                            title  \\\n",
       "0                          Niyola   \n",
       "1                 Narayan nagbali   \n",
       "2               Emerson Alcântara   \n",
       "3     Red Scapular of the Passion   \n",
       "4    Scott Walker: 30 Century Man   \n",
       "..                            ...   \n",
       "942              Manon Antoniazzi   \n",
       "943                Ghairat Baheer   \n",
       "944             Albert Khinchagov   \n",
       "945            NTR: Netsuzou Trap   \n",
       "946                 Solomon Wigle   \n",
       "\n",
       "                                               content    pageid  \n",
       "0    Eniola Akinbo (Listen; born 9 December 1985), ...  43433888  \n",
       "1    Narayan Nagbali is a three-day Hindu ritual pe...   4736808  \n",
       "2    Emerson Ricardo Alcântara (born 27 August 1970...  37125814  \n",
       "3    The Red Scapular of the Passion of Our Lord an...  21270348  \n",
       "4    Scott Walker: 30 Century Man is a 2006 documen...   4636743  \n",
       "..                                                 ...       ...  \n",
       "942  Manon Bonner Antoniazzi  (née Jenkins, previou...  54863689  \n",
       "943  Ghairat Baheer is a citizen of Afghanistan who...  33231477  \n",
       "944  Albert Omarovich Khinchagov (Russian: Альберт ...  68577589  \n",
       "945  NTR: Netsuzou Trap (Japanese: 捏造トラップ-NTR-, Hep...  51961711  \n",
       "946  Solomon Wigle (May 14, 1822 – May 1, 1898) was...   9574317  \n",
       "\n",
       "[947 rows x 3 columns]"
      ]
     },
     "execution_count": 103,
     "metadata": {},
     "output_type": "execute_result"
    }
   ],
   "source": [
    "data = data.reset_index().drop(columns=['index'])\n",
    "data"
   ]
  },
  {
   "cell_type": "markdown",
   "id": "e9ac66f9",
   "metadata": {},
   "source": [
    "Getting new content section for the data parsed with mwparserfromhell, as the wikipedia parsing is far better."
   ]
  },
  {
   "cell_type": "code",
   "execution_count": 10,
   "id": "0d7d1546",
   "metadata": {},
   "outputs": [
    {
     "data": {
      "text/plain": [
       "'Abd al-Rahman al-Mahdi (983 – 4 March 1009), nicknamed Sanchol (\\'little Sancho\\', Sanchuelo to later historians), was the ʿĀmirid hajib (chief minister) of the Caliphate of Córdoba under Caliph Hisham II from October 1008, at a time when actual power in the caliphate was vested in the hajib. The Caliph nominated him as heir a month later, but he was deposed by a coup the following February. He was killed some weeks later during a vain attempt to regain power. Though an unpopular and highly flawed leader, his deposition led to the disintegration of the caliphate.\\n\\n\\n== Youth ==\\nSanchuelo was born in Córdoba, the son of the hajib Almanzor and a converted Christian named Abda. She was daughter of Sancho II of Pamplona, likely originally named Urraca or Sancha. He was nicknamed Sanchol (Arabic: شنجول, romanized: šanjūl), the diminutive of Sancho, after his Christian grandfather. His father had elevated the role of hajib, once an advisory role, to become the de facto leader of the Córdoba caliphate, setting up his own court, taking charge of the armies and sequestering Caliph Hisham II from the public in near-captivity. Sanchuelo would have been raised at his father\\'s residence of az-Zahira on the outskirts of Córdoba. At the age of about nine in September 992 he rode out to receive the visit of his grandfather Sancho II, and escort him along the troop-lined road to his father at the az-Zahira court.\\nHis father took active means to toughen him and his elder brother as warriors.  About 995, troops of the Kingdom of Pamplona attacked Calatayud and killed the governor\\'s brother. In revenge Almanzor ordered the beheading of 50 Pamplonan captives who had been taken at Uncastillo some time earlier. According to Ibn Darraj, at Almanzor\\'s direction, Sanchuelo was tasked with personally beheading one of the captives, who was his uncle.  Then at the age of 14 in 997, Sanchuelo took part in his father\\'s campaign against Santiago de Compostela, and Ibn Darraj composed a poem celebrating Sanchuelo\\'s acts as well as a second dedicated to the actions of both Sanchuelo and his brother. In the Battle of Cervera in 1000, when the situation looked dire, his father sent him to the front lines to fight (as reported by historian Ibn Hayyan, whose father was present).\\n\\n\\n== Succession as hajib ==\\nIn 1002, Almanzor died while being taken to Medinaceli. On his death bed, he instructed his favorite son Abd al-Malik al-Muzaffar to leave Abd al-Rahman in charge of the local army, while he was to speed to Caliph Hisham II in Córdoba to carry news of his father\\'s death and be given the reigns of the caliphate as successor to his father before any resistance might arise. This the Caliph did, in spite of popular protest demanding direct rule by Hisham. The new hajib had to put these protests down with force.\\nAl-Muzaffar spent his short tenure fighting successive campaigns to try and bring the Christian states of the north to submission. During one of these, at the surrender of the fortress of San Martín in 1007, Sanchelo was given charge of the hostages by his brother, with orders to separate out all the men and put them to the blade, while enslaving the women and children among the troops. Al-Muzaffar became ill during 1008 and had to stop a campaign against Castile, as he faced rebellions from two rivals.  He died either on 8 October or about 22 October 1008.\\nFollowing Al-Muzaffar\\'s death,  Sanchuelo first garnered the fealty of his brother\\'s retainers, pending the Caliph\\'s approval of his succession as hajib, which he subsequently received. Just as they had done following the death of Almanzor, the population of Córdoba responded angrily to the continued domination of the ʿĀmirids over the sequestered caliph, with many also coming to believe that Abd al-Rahman had poisoned his brother.\\nAbd al-Rahman\\'s  rule was extremely unpopular, with a number of chroniclers decrying his debauchery, alcohol consumption and general foolishness. He personified all of the built-up animosity of Córdoba\\'s citizens over his family\\'s sequestration of the caliph. This public mood he exacerbated by boldly and recklessly seeking to be named the official successor to the caliphate. He recruited the qadi of Córdoba and the official secretary to persuade Hisham II to make a proclamation to that effect.  In spite of initial scruples, Hisham relented and issued a formal proclamation naming Abd al-Rahman as his heir in November 1008. The combination of his irreligiousness and incompetence, along with the prospect of the caliphate passing out of the hands of the north-Arab Umayyad dynasty and instead being vested in a representative of the Yemeni/south-Arab Ma\\'afiries who was also a grandson of a hated Pamplona king, led Córdoba\\'s middle class and the general populace to oppose his status as crown prince, though he retained the support of the well paid mostly Berber and Slav army.\\n\\n\\n== Deposition and death ==\\nIn the midst of this discontent, and in spite of having been warned by his son not to leave Córdoba because of a coup brewing among the Umayyad descendants of Abd al-Rahman III, Sanchelo nonetheless decided to launch a winter campaign in order to punish the fractious Christian kingdoms to the north, specifically León under their boy-king Alfonso V. Leaving his cousin Ibn Asqaleya in charge of the capital, he departed with his army in mid-January, only for his troops to become mired in snow, mud and floodwaters as Alfonso refused to give battle.  As a result, the caliphate army was forced to withdraw to Toledo. There Sanchuelo learned that on 15 February 1009, a group of 30 armed men led by Muhammad ibn Hisham ibn \\'Abd al-Jabbar, Abd al-Rahman III\\'s great-grandson, had overwhelmed the palace guard and killed the governor, Ibn Asqaleya. This action encouraged a larger uprising of the general populace that resulted in the abdication of Hisham II in favour of Muhammad. He named his cousin Abd al-Jabbar ibn al-Muguira to the office of hajib and sent him at the head of his supporters to Sanchuelo\\'s residence of az-Zahira, which was immediately surrendered.  The residence was then looted down to the building stone over several days until all that was left was a pile of rubble.\\nRather than immediately return to the city, Abd al-Rahman took his army to Calatrava where he dithered while testing the loyalty of his troops.  He failed to entice them into renewing their oaths of allegiance to him, and this delay gave Muhammad time to consolidate his control of Córdoba.\\nWith his army leaking away, Sanchuelo turned to his Christian rebel ally, García Gómez, count of Carrión, a member of the Banu Gómez clan, who had joined in his campaign against León. García encouraged him to abandon Córdoba and take refuge in the Christian north, but Sanchuelo was convinced that his presence near the city would cause his supporters to rise up and restore him.  Accompanied by the count\\'s own men at arms, he set off toward the capital only to have his Berber army desert him, and on 3 March he reached Armilat, the last stop before the city, with just his own household, which included a harem of 70 women, and the Banu Gómez troops. There the next day they were surrounded by a group of horsemen sent by Muhammad, and with Abd al-Rahmen expressing a willingness to submit, the group were marched toward Córdoba, meeting a larger force under the new hajib part way. During a rest at an inn at dusk, Sanchuelo pulled a dagger in what was interpreted as a suicide attempt, and the hajib had him thrown to the ground and beheaded. Count García Gómez was also killed.\\nAbd al-Rahman Sanchuelo\\'s deposition, coming four months after taking power, had dramatic effects on the political stability of al-Andalus. The success of Muhammad II encouraged other Umayyad scions and local lords to rise up, with the competitors each inviting the support from neighboring Christian states.  This fundamentally changed the power dynamic in the peninsula, fracturing the Córdoba caliphate into dozens of warring taifas that paid tribute to their Christian allies, and allowing the latter to greatly expand their territories and to stabilize their control over these new lands by repopulating them with Christian migrants from the north and Mozarabs fleeing the chaos of the former caliphate.\\n\\n\\n== References ==\\nEvariste Lévi-Provençal, ´Abd al-Rahman b. Muhammad b. Abi Amir Sanchuelo, in: Encyclopaedia of Islam. Second edition, vol. 1 (1960), p. 84.\\nAlberto Cañada Juste, \"Abd al-Rahman ibn Muhammad, Sanchuelo, hijo de Almanzor y nieto de los reyes de Pamplona\", Príncipe de Viana, 78(269):745-777 (2017).'"
      ]
     },
     "execution_count": 10,
     "metadata": {},
     "output_type": "execute_result"
    }
   ],
   "source": [
    "data['content']"
   ]
  },
  {
   "cell_type": "code",
   "execution_count": 93,
   "id": "574a9a3e",
   "metadata": {
    "scrolled": false
   },
   "outputs": [
    {
     "name": "stderr",
     "output_type": "stream",
     "text": [
      "C:\\Users\\tyms4\\AppData\\Local\\Temp\\ipykernel_5484\\597531675.py:5: SettingWithCopyWarning: \n",
      "A value is trying to be set on a copy of a slice from a DataFrame\n",
      "\n",
      "See the caveats in the documentation: https://pandas.pydata.org/pandas-docs/stable/user_guide/indexing.html#returning-a-view-versus-a-copy\n",
      "  data['content'][i] = page.content\n",
      "C:\\Users\\tyms4\\anaconda3\\lib\\site-packages\\wikipedia\\wikipedia.py:389: GuessedAtParserWarning: No parser was explicitly specified, so I'm using the best available HTML parser for this system (\"lxml\"). This usually isn't a problem, but if you run this code on another system, or in a different virtual environment, it may use a different parser and behave differently.\n",
      "\n",
      "The code that caused this warning is on line 389 of the file C:\\Users\\tyms4\\anaconda3\\lib\\site-packages\\wikipedia\\wikipedia.py. To get rid of this warning, pass the additional argument 'features=\"lxml\"' to the BeautifulSoup constructor.\n",
      "\n",
      "  lis = BeautifulSoup(html).find_all('li')\n"
     ]
    }
   ],
   "source": [
    "disambig = []\n",
    "for i in range(0, 500):\n",
    "    try:\n",
    "        page = wiki.page(pageid=data['pageid'][i])\n",
    "        data['content'][i] = page.content\n",
    "    except wiki.DisambiguationError as e:\n",
    "        disambig.append(i)"
   ]
  },
  {
   "cell_type": "code",
   "execution_count": 110,
   "id": "474dc151",
   "metadata": {},
   "outputs": [],
   "source": [
    "dataset = DatasetDict(\n",
    "    {\n",
    "        \"train\": Dataset.from_pandas(data)\n",
    "    }\n",
    ")"
   ]
  },
  {
   "cell_type": "code",
   "execution_count": 111,
   "id": "44c1fac1",
   "metadata": {},
   "outputs": [
    {
     "name": "stderr",
     "output_type": "stream",
     "text": [
      "Pushing split train to the Hub.\n"
     ]
    },
    {
     "data": {
      "application/vnd.jupyter.widget-view+json": {
       "model_id": "957d0db251954b418053288c50e986c3",
       "version_major": 2,
       "version_minor": 0
      },
      "text/plain": [
       "Pushing dataset shards to the dataset hub:   0%|          | 0/1 [00:00<?, ?it/s]"
      ]
     },
     "metadata": {},
     "output_type": "display_data"
    },
    {
     "data": {
      "application/vnd.jupyter.widget-view+json": {
       "model_id": "5bed4f744c1f4484ac9f969b7f83f649",
       "version_major": 2,
       "version_minor": 0
      },
      "text/plain": [
       "Creating parquet from Arrow format:   0%|          | 0/1 [00:00<?, ?ba/s]"
      ]
     },
     "metadata": {},
     "output_type": "display_data"
    },
    {
     "data": {
      "application/vnd.jupyter.widget-view+json": {
       "model_id": "6730f50486a54d63bab459c4e1ea30b1",
       "version_major": 2,
       "version_minor": 0
      },
      "text/plain": [
       "Upload 1 LFS files:   0%|          | 0/1 [00:00<?, ?it/s]"
      ]
     },
     "metadata": {},
     "output_type": "display_data"
    },
    {
     "data": {
      "application/vnd.jupyter.widget-view+json": {
       "model_id": "2f173526cd81455cb418868a199742c9",
       "version_major": 2,
       "version_minor": 0
      },
      "text/plain": [
       "Deleting unused files from dataset repository:   0%|          | 0/1 [00:00<?, ?it/s]"
      ]
     },
     "metadata": {},
     "output_type": "display_data"
    }
   ],
   "source": [
    "dataset.push_to_hub(\"UofA-LINGO/wiki-articles\", private=True)"
   ]
  },
  {
   "cell_type": "code",
   "execution_count": 2,
   "id": "f3bf56d0",
   "metadata": {},
   "outputs": [
    {
     "data": {
      "application/vnd.jupyter.widget-view+json": {
       "model_id": "cab0a1210dcf466487fccf2469e29bae",
       "version_major": 2,
       "version_minor": 0
      },
      "text/plain": [
       "Downloading readme:   0%|          | 0.00/742 [00:00<?, ?B/s]"
      ]
     },
     "metadata": {},
     "output_type": "display_data"
    },
    {
     "name": "stdout",
     "output_type": "stream",
     "text": [
      "Downloading and preparing dataset None/None to C:/Users/tyms4/.cache/huggingface/datasets/UofA-LINGO___parquet/UofA-LINGO--wiki-articles-63c6002f15ca2bb3/0.0.0/14a00e99c0d15a23649d0db8944380ac81082d4b021f398733dd84f3a6c569a7...\n"
     ]
    },
    {
     "data": {
      "application/vnd.jupyter.widget-view+json": {
       "model_id": "602904315af94ff7b81161e7b72b4fed",
       "version_major": 2,
       "version_minor": 0
      },
      "text/plain": [
       "Downloading data files:   0%|          | 0/1 [00:00<?, ?it/s]"
      ]
     },
     "metadata": {},
     "output_type": "display_data"
    },
    {
     "data": {
      "application/vnd.jupyter.widget-view+json": {
       "model_id": "96e585867a504e9da6581907e02254f7",
       "version_major": 2,
       "version_minor": 0
      },
      "text/plain": [
       "Downloading data:   0%|          | 0.00/1.90M [00:00<?, ?B/s]"
      ]
     },
     "metadata": {},
     "output_type": "display_data"
    },
    {
     "data": {
      "application/vnd.jupyter.widget-view+json": {
       "model_id": "5621c3ad024b434194983ad77b9ed106",
       "version_major": 2,
       "version_minor": 0
      },
      "text/plain": [
       "Extracting data files:   0%|          | 0/1 [00:00<?, ?it/s]"
      ]
     },
     "metadata": {},
     "output_type": "display_data"
    },
    {
     "data": {
      "application/vnd.jupyter.widget-view+json": {
       "model_id": "",
       "version_major": 2,
       "version_minor": 0
      },
      "text/plain": [
       "Generating train split:   0%|          | 0/947 [00:00<?, ? examples/s]"
      ]
     },
     "metadata": {},
     "output_type": "display_data"
    },
    {
     "name": "stdout",
     "output_type": "stream",
     "text": [
      "Dataset parquet downloaded and prepared to C:/Users/tyms4/.cache/huggingface/datasets/UofA-LINGO___parquet/UofA-LINGO--wiki-articles-63c6002f15ca2bb3/0.0.0/14a00e99c0d15a23649d0db8944380ac81082d4b021f398733dd84f3a6c569a7. Subsequent calls will reuse this data.\n"
     ]
    },
    {
     "data": {
      "application/vnd.jupyter.widget-view+json": {
       "model_id": "aa0eff07b7a44a74b981a8092bae4e40",
       "version_major": 2,
       "version_minor": 0
      },
      "text/plain": [
       "  0%|          | 0/1 [00:00<?, ?it/s]"
      ]
     },
     "metadata": {},
     "output_type": "display_data"
    }
   ],
   "source": [
    "data = load_dataset('UofA-LINGO/wiki-articles')\n",
    "data = pd.DataFrame(data['train'])"
   ]
  },
  {
   "cell_type": "code",
   "execution_count": null,
   "id": "f4e5cd3f",
   "metadata": {},
   "outputs": [],
   "source": [
    "keywords = ['cities', 'companies', '']"
   ]
  },
  {
   "cell_type": "code",
   "execution_count": 88,
   "id": "776c29cd",
   "metadata": {},
   "outputs": [
    {
     "ename": "PageError",
     "evalue": "Page id \"list of cities in alberts\" does not match any pages. Try another id!",
     "output_type": "error",
     "traceback": [
      "\u001b[1;31m---------------------------------------------------------------------------\u001b[0m",
      "\u001b[1;31mPageError\u001b[0m                                 Traceback (most recent call last)",
      "\u001b[1;32m~\\AppData\\Local\\Temp\\ipykernel_14016\\362200454.py\u001b[0m in \u001b[0;36m<module>\u001b[1;34m\u001b[0m\n\u001b[0;32m      1\u001b[0m \u001b[1;31m#title = 'Big Ben'\u001b[0m\u001b[1;33m\u001b[0m\u001b[1;33m\u001b[0m\u001b[0m\n\u001b[0;32m      2\u001b[0m \u001b[1;31m#page = wiki.page(pageid=7290308)\u001b[0m\u001b[1;33m\u001b[0m\u001b[1;33m\u001b[0m\u001b[0m\n\u001b[1;32m----> 3\u001b[1;33m \u001b[0mpage\u001b[0m \u001b[1;33m=\u001b[0m \u001b[0mwiki\u001b[0m\u001b[1;33m.\u001b[0m\u001b[0mpage\u001b[0m\u001b[1;33m(\u001b[0m\u001b[0mtitle\u001b[0m\u001b[1;33m=\u001b[0m\u001b[1;34m\"List_of_cities_in_Alberta\"\u001b[0m\u001b[1;33m)\u001b[0m\u001b[1;33m\u001b[0m\u001b[1;33m\u001b[0m\u001b[0m\n\u001b[0m\u001b[0;32m      4\u001b[0m \u001b[0mprint\u001b[0m\u001b[1;33m(\u001b[0m\u001b[0mpage\u001b[0m\u001b[1;33m.\u001b[0m\u001b[0mcontent\u001b[0m\u001b[1;33m)\u001b[0m\u001b[1;33m\u001b[0m\u001b[1;33m\u001b[0m\u001b[0m\n",
      "\u001b[1;32m~\\anaconda3\\lib\\site-packages\\wikipedia\\wikipedia.py\u001b[0m in \u001b[0;36mpage\u001b[1;34m(title, pageid, auto_suggest, redirect, preload)\u001b[0m\n\u001b[0;32m    274\u001b[0m         \u001b[1;31m# if there is no suggestion or search results, the page doesn't exist\u001b[0m\u001b[1;33m\u001b[0m\u001b[1;33m\u001b[0m\u001b[0m\n\u001b[0;32m    275\u001b[0m         \u001b[1;32mraise\u001b[0m \u001b[0mPageError\u001b[0m\u001b[1;33m(\u001b[0m\u001b[0mtitle\u001b[0m\u001b[1;33m)\u001b[0m\u001b[1;33m\u001b[0m\u001b[1;33m\u001b[0m\u001b[0m\n\u001b[1;32m--> 276\u001b[1;33m     \u001b[1;32mreturn\u001b[0m \u001b[0mWikipediaPage\u001b[0m\u001b[1;33m(\u001b[0m\u001b[0mtitle\u001b[0m\u001b[1;33m,\u001b[0m \u001b[0mredirect\u001b[0m\u001b[1;33m=\u001b[0m\u001b[0mredirect\u001b[0m\u001b[1;33m,\u001b[0m \u001b[0mpreload\u001b[0m\u001b[1;33m=\u001b[0m\u001b[0mpreload\u001b[0m\u001b[1;33m)\u001b[0m\u001b[1;33m\u001b[0m\u001b[1;33m\u001b[0m\u001b[0m\n\u001b[0m\u001b[0;32m    277\u001b[0m   \u001b[1;32melif\u001b[0m \u001b[0mpageid\u001b[0m \u001b[1;32mis\u001b[0m \u001b[1;32mnot\u001b[0m \u001b[1;32mNone\u001b[0m\u001b[1;33m:\u001b[0m\u001b[1;33m\u001b[0m\u001b[1;33m\u001b[0m\u001b[0m\n\u001b[0;32m    278\u001b[0m     \u001b[1;32mreturn\u001b[0m \u001b[0mWikipediaPage\u001b[0m\u001b[1;33m(\u001b[0m\u001b[0mpageid\u001b[0m\u001b[1;33m=\u001b[0m\u001b[0mpageid\u001b[0m\u001b[1;33m,\u001b[0m \u001b[0mpreload\u001b[0m\u001b[1;33m=\u001b[0m\u001b[0mpreload\u001b[0m\u001b[1;33m)\u001b[0m\u001b[1;33m\u001b[0m\u001b[1;33m\u001b[0m\u001b[0m\n",
      "\u001b[1;32m~\\anaconda3\\lib\\site-packages\\wikipedia\\wikipedia.py\u001b[0m in \u001b[0;36m__init__\u001b[1;34m(self, title, pageid, redirect, preload, original_title)\u001b[0m\n\u001b[0;32m    297\u001b[0m       \u001b[1;32mraise\u001b[0m \u001b[0mValueError\u001b[0m\u001b[1;33m(\u001b[0m\u001b[1;34m\"Either a title or a pageid must be specified\"\u001b[0m\u001b[1;33m)\u001b[0m\u001b[1;33m\u001b[0m\u001b[1;33m\u001b[0m\u001b[0m\n\u001b[0;32m    298\u001b[0m \u001b[1;33m\u001b[0m\u001b[0m\n\u001b[1;32m--> 299\u001b[1;33m     \u001b[0mself\u001b[0m\u001b[1;33m.\u001b[0m\u001b[0m__load\u001b[0m\u001b[1;33m(\u001b[0m\u001b[0mredirect\u001b[0m\u001b[1;33m=\u001b[0m\u001b[0mredirect\u001b[0m\u001b[1;33m,\u001b[0m \u001b[0mpreload\u001b[0m\u001b[1;33m=\u001b[0m\u001b[0mpreload\u001b[0m\u001b[1;33m)\u001b[0m\u001b[1;33m\u001b[0m\u001b[1;33m\u001b[0m\u001b[0m\n\u001b[0m\u001b[0;32m    300\u001b[0m \u001b[1;33m\u001b[0m\u001b[0m\n\u001b[0;32m    301\u001b[0m     \u001b[1;32mif\u001b[0m \u001b[0mpreload\u001b[0m\u001b[1;33m:\u001b[0m\u001b[1;33m\u001b[0m\u001b[1;33m\u001b[0m\u001b[0m\n",
      "\u001b[1;32m~\\anaconda3\\lib\\site-packages\\wikipedia\\wikipedia.py\u001b[0m in \u001b[0;36m__load\u001b[1;34m(self, redirect, preload)\u001b[0m\n\u001b[0;32m    343\u001b[0m     \u001b[1;32mif\u001b[0m \u001b[1;34m'missing'\u001b[0m \u001b[1;32min\u001b[0m \u001b[0mpage\u001b[0m\u001b[1;33m:\u001b[0m\u001b[1;33m\u001b[0m\u001b[1;33m\u001b[0m\u001b[0m\n\u001b[0;32m    344\u001b[0m       \u001b[1;32mif\u001b[0m \u001b[0mhasattr\u001b[0m\u001b[1;33m(\u001b[0m\u001b[0mself\u001b[0m\u001b[1;33m,\u001b[0m \u001b[1;34m'title'\u001b[0m\u001b[1;33m)\u001b[0m\u001b[1;33m:\u001b[0m\u001b[1;33m\u001b[0m\u001b[1;33m\u001b[0m\u001b[0m\n\u001b[1;32m--> 345\u001b[1;33m         \u001b[1;32mraise\u001b[0m \u001b[0mPageError\u001b[0m\u001b[1;33m(\u001b[0m\u001b[0mself\u001b[0m\u001b[1;33m.\u001b[0m\u001b[0mtitle\u001b[0m\u001b[1;33m)\u001b[0m\u001b[1;33m\u001b[0m\u001b[1;33m\u001b[0m\u001b[0m\n\u001b[0m\u001b[0;32m    346\u001b[0m       \u001b[1;32melse\u001b[0m\u001b[1;33m:\u001b[0m\u001b[1;33m\u001b[0m\u001b[1;33m\u001b[0m\u001b[0m\n\u001b[0;32m    347\u001b[0m         \u001b[1;32mraise\u001b[0m \u001b[0mPageError\u001b[0m\u001b[1;33m(\u001b[0m\u001b[0mpageid\u001b[0m\u001b[1;33m=\u001b[0m\u001b[0mself\u001b[0m\u001b[1;33m.\u001b[0m\u001b[0mpageid\u001b[0m\u001b[1;33m)\u001b[0m\u001b[1;33m\u001b[0m\u001b[1;33m\u001b[0m\u001b[0m\n",
      "\u001b[1;31mPageError\u001b[0m: Page id \"list of cities in alberts\" does not match any pages. Try another id!"
     ]
    }
   ],
   "source": [
    "#title = 'Big Ben'\n",
    "#page = wiki.page(pageid=7290308)\n",
    "page = wiki.page(title=\"List_of_cities_in_Alberta\")\n",
    "print(page.content)"
   ]
  },
  {
   "cell_type": "code",
   "execution_count": 79,
   "id": "9bd5d945",
   "metadata": {},
   "outputs": [
    {
     "data": {
      "text/plain": [
       "['Articles with short description',\n",
       " 'Cities in North America',\n",
       " 'Lists of cities by continent',\n",
       " 'Lists of cities in the Americas',\n",
       " 'North America-related lists',\n",
       " 'Short description is different from Wikidata']"
      ]
     },
     "execution_count": 79,
     "metadata": {},
     "output_type": "execute_result"
    }
   ],
   "source": [
    "page.categories"
   ]
  },
  {
   "cell_type": "code",
   "execution_count": 80,
   "id": "213eb1e5",
   "metadata": {},
   "outputs": [
    {
     "name": "stdout",
     "output_type": "stream",
     "text": [
      "This is a list of cities in North America. For the most populous cities in North America, see List of North American cities by population.\n"
     ]
    }
   ],
   "source": [
    "summary = page.summary\n",
    "print(summary)"
   ]
  },
  {
   "cell_type": "code",
   "execution_count": 77,
   "id": "8d8d134c",
   "metadata": {},
   "outputs": [
    {
     "name": "stdout",
     "output_type": "stream",
     "text": [
      "Big Ben is the nickname for the Great Bell of the Great Clock of Westminster, at the north end of the Palace of Westminster in London, England, and the name is frequently extended to refer also to the clock and the clock tower. The official name of the tower in which Big Ben is located was originally the Clock Tower, but it was renamed Elizabeth Tower in 2012 to mark the Diamond Jubilee of Elizabeth II.\n",
      "\n",
      "The tower was designed by Augustus Pugin in a neo-Gothic style. When completed in 1859, its clock was the largest and most accurate four-faced striking and chiming clock in the world. The tower stands 316 feet (96 m) tall, and the climb from ground level to the belfry is 334 steps. Its base is square, measuring 40 feet (12 m) on each side. Dials of the clock are 22.5 feet (6.9 m) in diameter. All four nations of the UK are represented on the tower on shields featuring a rose for England, thistle for Scotland, shamrock for Ireland, and leek for Wales.\n",
      "\n",
      "Big Ben is the largest of the tower's five bells and weighs 13.5 long tons (13.7 tonnes; 15.1 short tons). It was the largest bell in the United Kingdom for 23 years. The origin of the bell's nickname is open to question; it may be named after Sir Benjamin Hall, who oversaw its installation, or heavyweight boxing champion Benjamin Caunt. Four quarter bells chime at 15, 30 and 45 minutes past the hour and just before Big Ben tolls on the hour. The clock uses its original Victorian mechanism, but an electric motor can be used as a backup.\n",
      "\n",
      "The tower is a British cultural icon recognised all over the world. It is one of the most prominent symbols of the United Kingdom and parliamentary democracy, and it is often used in the establishing shot of films set in London. The clock tower has been part of a Grade I listed building since 1970 and a UNESCO World Heritage Site since 1987. The tower was repaired and renovated for four years between 2017 and 2021, during which the bells remained silent with few exceptions.\n"
     ]
    },
    {
     "data": {
      "text/plain": [
       "['Big Ben is the nickname for the Great Bell of the Great Clock of Westminster, at the north end of the Palace of Westminster in London, England, and the name is frequently extended to refer also to the clock and the clock tower. The official name of the tower in which Big Ben is located was originally the Clock Tower, but it was renamed Elizabeth Tower in 2012 to mark the Diamond Jubilee of Elizabeth II.',\n",
       " 'The tower was designed by Augustus Pugin in a neo-Gothic style. When completed in 1859, its clock was the largest and most accurate four-faced striking and chiming clock in the world. The tower stands 316 feet (96 m) tall, and the climb from ground level to the belfry is 334 steps. Its base is square, measuring 40 feet (12 m) on each side. Dials of the clock are 22.5 feet (6.9 m) in diameter. All four nations of the UK are represented on the tower on shields featuring a rose for England, thistle for Scotland, shamrock for Ireland, and leek for Wales.',\n",
       " \"Big Ben is the largest of the tower's five bells and weighs 13.5 long tons (13.7 tonnes; 15.1 short tons). It was the largest bell in the United Kingdom for 23 years. The origin of the bell's nickname is open to question; it may be named after Sir Benjamin Hall, who oversaw its installation, or heavyweight boxing champion Benjamin Caunt. Four quarter bells chime at 15, 30 and 45 minutes past the hour and just before Big Ben tolls on the hour. The clock uses its original Victorian mechanism, but an electric motor can be used as a backup.\",\n",
       " 'The tower is a British cultural icon recognised all over the world. It is one of the most prominent symbols of the United Kingdom and parliamentary democracy, and it is often used in the establishing shot of films set in London. The clock tower has been part of a Grade I listed building since 1970 and a UNESCO World Heritage Site since 1987. The tower was repaired and renovated for four years between 2017 and 2021, during which the bells remained silent with few exceptions.']"
      ]
     },
     "execution_count": 77,
     "metadata": {},
     "output_type": "execute_result"
    }
   ],
   "source": [
    "summary = summary.replace('\\n', '\\n\\n')\n",
    "summary = re.sub(r'(?<=[a-zA-Z])\\.(?=[a-zA-Z])', '.\\n\\n', summary)\n",
    "print(summary)\n",
    "pgraphs = summary.split('\\n\\n')\n",
    "pgraphs"
   ]
  },
  {
   "cell_type": "code",
   "execution_count": 83,
   "id": "1d4fb191",
   "metadata": {},
   "outputs": [
    {
     "data": {
      "text/plain": [
       "['Antigua and Barbuda',\n",
       " 'Aruba',\n",
       " 'Bahamas',\n",
       " 'Barbados',\n",
       " 'Belize',\n",
       " 'Bermuda',\n",
       " 'British Virgin Islands',\n",
       " 'Canada',\n",
       " 'Cayman Islands',\n",
       " 'Costa Rica',\n",
       " 'Cuba',\n",
       " 'Dominica',\n",
       " 'Dominican Republic',\n",
       " 'El Salvador',\n",
       " 'Greenland',\n",
       " 'Grenada',\n",
       " 'Guatemala',\n",
       " 'Haiti',\n",
       " 'Honduras',\n",
       " 'Jamaica',\n",
       " 'Mexico',\n",
       " 'Montserrat',\n",
       " 'Netherlands Antilles',\n",
       " 'Nicaragua',\n",
       " 'Panama',\n",
       " 'Puerto Rico',\n",
       " 'Saint Kitts and Nevis',\n",
       " 'Saint Lucia',\n",
       " 'Saint-Pierre and Miquelon',\n",
       " 'Saint Vincent and the Grenadines',\n",
       " 'Trinidad and Tobago',\n",
       " 'Turks and Caicos Islands',\n",
       " 'United States',\n",
       " 'United States Virgin Islands',\n",
       " 'See also',\n",
       " 'References']"
      ]
     },
     "execution_count": 83,
     "metadata": {},
     "output_type": "execute_result"
    }
   ],
   "source": [
    "sections = re.findall(r'= (.*?) =', page.content)\n",
    "sections"
   ]
  },
  {
   "cell_type": "code",
   "execution_count": 84,
   "id": "980a59c0",
   "metadata": {},
   "outputs": [
    {
     "name": "stdout",
     "output_type": "stream",
     "text": [
      "Oranjestad\n",
      "\n",
      "Nassau\n",
      "Freeport City\n",
      "\n",
      "Bridgetown\n",
      "Speightstown\n",
      "\n",
      "Belize City\n",
      "Belmopan\n",
      "\n",
      "Toronto\n",
      "Montreal\n",
      "Vancouver\n",
      "Ottawa\n",
      "Calgary\n",
      "Edmonton\n",
      "Winnipeg\n",
      "Halifax\n",
      "\n",
      "George Town\n",
      "\n",
      "Havana\n",
      "Santiago de Cuba\n",
      "\n",
      "Roseau\n",
      "\n",
      "Santo Domingo\n",
      "Santiago de los Caballeros\n",
      "San Felipe de Puerto Plata\n",
      "\n",
      "San Salvador\n",
      "San Miguel\n",
      "Santa Ana\n",
      "\n",
      "Nuuk\n",
      "Sisimiut\n",
      "Ilulissat\n",
      "Qaqortoq\n",
      "Aasiaat\n",
      "\n",
      "Guatemala City\n",
      "\n",
      "Port-au-Prince\n",
      "Delmas\n",
      "Pétion-Ville\n",
      "Cap-Haïtien\n",
      "Gonaïves\n",
      "Port-de-Paix\n",
      "Jacmel\n",
      "Les Cayes\n",
      "Jérémie\n",
      "\n",
      "Tegucigalpa\n",
      "San Pedro Sula\n",
      "Choloma\n",
      "La Ceiba\n",
      "El Progreso\n",
      "Choluteca\n",
      "Comayagua\n",
      "Puerto Cortés\n",
      "La Lima\n",
      "Danlí\n",
      "\n",
      "Kingston\n",
      "Montego Bay\n",
      "Spanish Town\n",
      "Portmore\n",
      "Ocho Rios\n",
      "\n",
      "Mexico City\n",
      "Guadalajara\n",
      "Monterrey\n",
      "Puebla\n",
      "Toluca\n",
      "Tijuana\n",
      "Chihuahua\n",
      "Juárez\n",
      "León\n",
      "Torreón\n",
      "San Luis Potosí\n",
      "Mérida\n",
      "Acapulco\n",
      "Cancún\n",
      "Los Cabos\n",
      "Cuernavaca\n",
      "Pachuca\n",
      "Querétaro\n",
      "\n",
      "Managua\n",
      "Leon\n",
      "\n",
      "San Juan\n",
      "\n",
      "Castries\n",
      "\n",
      "Port of Spain\n",
      "San Fernando\n",
      "Chaguanas\n",
      "Arima\n",
      "Couva\n",
      "Point Fortin\n",
      "Scarborough\n",
      "Tunapuna\n",
      "Diego Martin\n",
      "Princes Town\n",
      "Penal\n",
      "Siparia\n",
      "San Juan\n",
      "Sangre Grande\n",
      "Mayaro\n",
      "\n",
      "Cockburn Town\n",
      "\n",
      "Boston, Massachusetts\n",
      "New York City\n",
      "Philadelphia, Pennsylvania\n",
      "Washington, D.C.\n",
      "Chicago, Illinois\n",
      "Detroit, Michigan\n",
      "New Orleans, Louisiana\n",
      "Miami, Florida\n",
      "Atlanta, Georgia\n",
      "Dallas, Texas\n",
      "Houston, Texas\n",
      "Las Vegas, Nevada\n",
      "Los Angeles, California\n",
      "San Francisco, California\n",
      "Seattle, Washington\n",
      "\n",
      "Charlotte Amalie\n",
      "\n",
      "North America\n",
      "List of North American cities by year of foundation\n",
      "List of the largest urban agglomerations in North America\n",
      "List of North American metropolitan areas by population\n",
      "List of Metropolitan Statistical Areas\n",
      "Lists of cities\n",
      "Largest cities in the Americas\n",
      "Cities of present-day nations and states\n",
      "List of cities by continent\n",
      "List of cities in South America\n",
      "List of cities in Africa\n",
      "List of cities in Asia\n",
      "List of cities in Europe\n",
      "List of cities in Oceania\n",
      " Cities portal\n",
      " North America portal\n",
      "\n"
     ]
    }
   ],
   "source": [
    "for section in sections:\n",
    "    if page.section(section) != '':\n",
    "        print(page.section(section))\n",
    "        print()"
   ]
  },
  {
   "cell_type": "code",
   "execution_count": null,
   "id": "ddcb036a",
   "metadata": {},
   "outputs": [],
   "source": []
  }
 ],
 "metadata": {
  "kernelspec": {
   "display_name": "Python 3 (ipykernel)",
   "language": "python",
   "name": "python3"
  },
  "language_info": {
   "codemirror_mode": {
    "name": "ipython",
    "version": 3
   },
   "file_extension": ".py",
   "mimetype": "text/x-python",
   "name": "python",
   "nbconvert_exporter": "python",
   "pygments_lexer": "ipython3",
   "version": "3.9.13"
  },
  "toc": {
   "base_numbering": 1,
   "nav_menu": {},
   "number_sections": true,
   "sideBar": true,
   "skip_h1_title": false,
   "title_cell": "Table of Contents",
   "title_sidebar": "Contents",
   "toc_cell": false,
   "toc_position": {},
   "toc_section_display": true,
   "toc_window_display": false
  }
 },
 "nbformat": 4,
 "nbformat_minor": 5
}
