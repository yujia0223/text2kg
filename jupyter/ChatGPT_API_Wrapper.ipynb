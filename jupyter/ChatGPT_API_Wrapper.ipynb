{
 "cells": [
  {
   "cell_type": "markdown",
   "id": "36eabcd5",
   "metadata": {},
   "source": [
    "## Warning: This file is left for documentation purposes, but should not be run over a long period of time. OpenAI does not support this API usage, so should only be used as a one time thing, not to make requests over a long period of time."
   ]
  },
  {
   "cell_type": "code",
   "execution_count": null,
   "id": "3bec582c",
   "metadata": {},
   "outputs": [],
   "source": [
    "pip install UnlimitedGPT -U"
   ]
  },
  {
   "cell_type": "code",
   "execution_count": 31,
   "id": "c94155fa",
   "metadata": {},
   "outputs": [
    {
     "name": "stdout",
     "output_type": "stream",
     "text": [
      "Requirement already satisfied: undetected-chromedriver==3.4.5 in c:\\users\\tyms4\\anaconda3\\lib\\site-packages (3.4.5)\n",
      "Requirement already satisfied: websockets in c:\\users\\tyms4\\anaconda3\\lib\\site-packages (from undetected-chromedriver==3.4.5) (11.0.3)\n",
      "Requirement already satisfied: requests in c:\\users\\tyms4\\anaconda3\\lib\\site-packages (from undetected-chromedriver==3.4.5) (2.28.1)\n",
      "Requirement already satisfied: selenium>=4.0.0 in c:\\users\\tyms4\\anaconda3\\lib\\site-packages (from undetected-chromedriver==3.4.5) (4.9.1)\n",
      "Requirement already satisfied: urllib3[socks]<3,>=1.26 in c:\\users\\tyms4\\anaconda3\\lib\\site-packages (from selenium>=4.0.0->undetected-chromedriver==3.4.5) (1.26.11)\n",
      "Requirement already satisfied: certifi>=2021.10.8 in c:\\users\\tyms4\\anaconda3\\lib\\site-packages (from selenium>=4.0.0->undetected-chromedriver==3.4.5) (2022.9.14)\n",
      "Requirement already satisfied: trio~=0.17 in c:\\users\\tyms4\\anaconda3\\lib\\site-packages (from selenium>=4.0.0->undetected-chromedriver==3.4.5) (0.22.2)\n",
      "Requirement already satisfied: trio-websocket~=0.9 in c:\\users\\tyms4\\anaconda3\\lib\\site-packages (from selenium>=4.0.0->undetected-chromedriver==3.4.5) (0.10.3)\n",
      "Requirement already satisfied: idna<4,>=2.5 in c:\\users\\tyms4\\anaconda3\\lib\\site-packages (from requests->undetected-chromedriver==3.4.5) (3.3)\n",
      "Requirement already satisfied: charset-normalizer<3,>=2 in c:\\users\\tyms4\\anaconda3\\lib\\site-packages (from requests->undetected-chromedriver==3.4.5) (2.0.4)\n",
      "Requirement already satisfied: attrs>=20.1.0 in c:\\users\\tyms4\\anaconda3\\lib\\site-packages (from trio~=0.17->selenium>=4.0.0->undetected-chromedriver==3.4.5) (21.4.0)\n",
      "Requirement already satisfied: exceptiongroup>=1.0.0rc9 in c:\\users\\tyms4\\anaconda3\\lib\\site-packages (from trio~=0.17->selenium>=4.0.0->undetected-chromedriver==3.4.5) (1.1.2)\n",
      "Requirement already satisfied: sniffio in c:\\users\\tyms4\\anaconda3\\lib\\site-packages (from trio~=0.17->selenium>=4.0.0->undetected-chromedriver==3.4.5) (1.2.0)\n",
      "Requirement already satisfied: cffi>=1.14 in c:\\users\\tyms4\\anaconda3\\lib\\site-packages (from trio~=0.17->selenium>=4.0.0->undetected-chromedriver==3.4.5) (1.15.1)\n",
      "Requirement already satisfied: outcome in c:\\users\\tyms4\\anaconda3\\lib\\site-packages (from trio~=0.17->selenium>=4.0.0->undetected-chromedriver==3.4.5) (1.2.0)\n",
      "Requirement already satisfied: sortedcontainers in c:\\users\\tyms4\\anaconda3\\lib\\site-packages (from trio~=0.17->selenium>=4.0.0->undetected-chromedriver==3.4.5) (2.4.0)\n",
      "Requirement already satisfied: wsproto>=0.14 in c:\\users\\tyms4\\anaconda3\\lib\\site-packages (from trio-websocket~=0.9->selenium>=4.0.0->undetected-chromedriver==3.4.5) (1.2.0)\n",
      "Requirement already satisfied: PySocks!=1.5.7,<2.0,>=1.5.6 in c:\\users\\tyms4\\anaconda3\\lib\\site-packages (from urllib3[socks]<3,>=1.26->selenium>=4.0.0->undetected-chromedriver==3.4.5) (1.7.1)\n",
      "Requirement already satisfied: pycparser in c:\\users\\tyms4\\anaconda3\\lib\\site-packages (from cffi>=1.14->trio~=0.17->selenium>=4.0.0->undetected-chromedriver==3.4.5) (2.21)\n",
      "Requirement already satisfied: h11<1,>=0.9.0 in c:\\users\\tyms4\\anaconda3\\lib\\site-packages (from wsproto>=0.14->trio-websocket~=0.9->selenium>=4.0.0->undetected-chromedriver==3.4.5) (0.14.0)\n",
      "Note: you may need to restart the kernel to use updated packages.\n"
     ]
    }
   ],
   "source": [
    "pip install undetected-chromedriver==3.4.5"
   ]
  },
  {
   "cell_type": "code",
   "execution_count": 32,
   "id": "50b62a21",
   "metadata": {},
   "outputs": [
    {
     "name": "stdout",
     "output_type": "stream",
     "text": [
      "Requirement already satisfied: selenium==4.9.1 in c:\\users\\tyms4\\anaconda3\\lib\\site-packages (4.9.1)Note: you may need to restart the kernel to use updated packages.\n",
      "\n",
      "Requirement already satisfied: trio~=0.17 in c:\\users\\tyms4\\anaconda3\\lib\\site-packages (from selenium==4.9.1) (0.22.2)\n",
      "Requirement already satisfied: urllib3[socks]<3,>=1.26 in c:\\users\\tyms4\\anaconda3\\lib\\site-packages (from selenium==4.9.1) (1.26.11)\n",
      "Requirement already satisfied: trio-websocket~=0.9 in c:\\users\\tyms4\\anaconda3\\lib\\site-packages (from selenium==4.9.1) (0.10.3)\n",
      "Requirement already satisfied: certifi>=2021.10.8 in c:\\users\\tyms4\\anaconda3\\lib\\site-packages (from selenium==4.9.1) (2022.9.14)\n",
      "Requirement already satisfied: idna in c:\\users\\tyms4\\anaconda3\\lib\\site-packages (from trio~=0.17->selenium==4.9.1) (3.3)\n",
      "Requirement already satisfied: sniffio in c:\\users\\tyms4\\anaconda3\\lib\\site-packages (from trio~=0.17->selenium==4.9.1) (1.2.0)\n",
      "Requirement already satisfied: attrs>=20.1.0 in c:\\users\\tyms4\\anaconda3\\lib\\site-packages (from trio~=0.17->selenium==4.9.1) (21.4.0)\n",
      "Requirement already satisfied: sortedcontainers in c:\\users\\tyms4\\anaconda3\\lib\\site-packages (from trio~=0.17->selenium==4.9.1) (2.4.0)\n",
      "Requirement already satisfied: exceptiongroup>=1.0.0rc9 in c:\\users\\tyms4\\anaconda3\\lib\\site-packages (from trio~=0.17->selenium==4.9.1) (1.1.2)\n",
      "Requirement already satisfied: cffi>=1.14 in c:\\users\\tyms4\\anaconda3\\lib\\site-packages (from trio~=0.17->selenium==4.9.1) (1.15.1)\n",
      "Requirement already satisfied: outcome in c:\\users\\tyms4\\anaconda3\\lib\\site-packages (from trio~=0.17->selenium==4.9.1) (1.2.0)\n",
      "Requirement already satisfied: wsproto>=0.14 in c:\\users\\tyms4\\anaconda3\\lib\\site-packages (from trio-websocket~=0.9->selenium==4.9.1) (1.2.0)\n",
      "Requirement already satisfied: PySocks!=1.5.7,<2.0,>=1.5.6 in c:\\users\\tyms4\\anaconda3\\lib\\site-packages (from urllib3[socks]<3,>=1.26->selenium==4.9.1) (1.7.1)\n",
      "Requirement already satisfied: pycparser in c:\\users\\tyms4\\anaconda3\\lib\\site-packages (from cffi>=1.14->trio~=0.17->selenium==4.9.1) (2.21)\n",
      "Requirement already satisfied: h11<1,>=0.9.0 in c:\\users\\tyms4\\anaconda3\\lib\\site-packages (from wsproto>=0.14->trio-websocket~=0.9->selenium==4.9.1) (0.14.0)\n"
     ]
    }
   ],
   "source": [
    "pip install selenium==4.9.1"
   ]
  },
  {
   "cell_type": "code",
   "execution_count": 33,
   "id": "2c3f2948",
   "metadata": {},
   "outputs": [
    {
     "name": "stdout",
     "output_type": "stream",
     "text": [
      "Requirement already satisfied: markdownify in c:\\users\\tyms4\\anaconda3\\lib\\site-packages (0.11.6)\n",
      "Requirement already satisfied: beautifulsoup4<5,>=4.9 in c:\\users\\tyms4\\anaconda3\\lib\\site-packages (from markdownify) (4.11.1)\n",
      "Requirement already satisfied: six<2,>=1.15 in c:\\users\\tyms4\\anaconda3\\lib\\site-packages (from markdownify) (1.15.0)\n",
      "Requirement already satisfied: soupsieve>1.2 in c:\\users\\tyms4\\anaconda3\\lib\\site-packages (from beautifulsoup4<5,>=4.9->markdownify) (2.3.1)\n",
      "Note: you may need to restart the kernel to use updated packages.\n"
     ]
    }
   ],
   "source": [
    "pip install markdownify"
   ]
  },
  {
   "cell_type": "code",
   "execution_count": 32,
   "id": "497e874b",
   "metadata": {},
   "outputs": [],
   "source": [
    "import UnlimitedGPT as gpt"
   ]
  },
  {
   "cell_type": "code",
   "execution_count": 33,
   "id": "9ab3b124",
   "metadata": {},
   "outputs": [],
   "source": [
    "# Enter session key for AI Team, for security reasons left blank\n",
    "session_key = \"\""
   ]
  },
  {
   "cell_type": "code",
   "execution_count": 37,
   "id": "68052998",
   "metadata": {},
   "outputs": [],
   "source": [
    "conversation_id = 'f7b4b745-5999-432f-9678-069d5208fe81'  # GPT-4 conversation ID\n",
    "#conversation_id = '858b7f93-611b-431d-bbbc-3e8f3ab43612'  # GPT-3.5 conversation ID"
   ]
  },
  {
   "cell_type": "code",
   "execution_count": 38,
   "id": "59cdd1a2",
   "metadata": {},
   "outputs": [],
   "source": [
    "api = gpt.ChatGPT(session_key, conversation_id=conversation_id)"
   ]
  },
  {
   "cell_type": "code",
   "execution_count": 43,
   "id": "67cc80b9",
   "metadata": {},
   "outputs": [],
   "source": [
    "input_text = \"Some text is provided below. Given the text, extract knowledge triplets in the form of (subject, predicate, object). Avoid stopwords. \\\n",
    "Example: \\\n",
    "Text: Alice is Bob's mother. \\\n",
    "Triplets: (Alice, is mother of, Bob) \\\n",
    "Text: Philz is a coffee shop founded in Berkeley in 1982. \\\n",
    "Triplets: \\\n",
    "(Philz, is, coffee shop) \\\n",
    "(Philz, founded in, Berkeley) \\\n",
    "(Philz, founded in, 1982) \\\n",
    "Text: The Haunting of Castle Malloy is the 19th installment in the Nancy Drew point-and-click adventure game series by Her Interactive. The game is available for play on Microsoft Windows platforms. It has an ESRB rating of E for moments of mild violence and peril. Players take on the first-person view of fictional amateur sleuth Nancy Drew and must solve the mystery through interrogation of suspects, solving puzzles, and discovering clues. There are two levels of gameplay, Junior and Senior detective modes, each offering a different difficulty level of puzzles and hints, however neither of these changes affects the actual plot of the game. The game is loosely based on a book entitled The Bike Tour Mystery (2002).[1][2] \\\n",
    "\\\n",
    "Plot[edit] \\\n",
    "Nancy Drew travels to Castle Malloy in Ireland to be the maid of honor in her friend Kyler Mallory's wedding. As Nancy drives towards the castle, a ghostly figure darts out in front of her car. The car crashes into a ditch, and Nancy is stuck at the site of a new mystery. Kyler's wedding was supposed to be the biggest event in Bailor since half the castle blew up sixty years ago, but now the groom is missing. Was he snatched by the banshee rumored to haunt the castle, or is this a case of cold feet? It's up to Nancy to find the groom and save this wedding. \\\n",
    "Development[edit] \\\n",
    "Characters[edit] \\\n",
    "Nancy Drew - Nancy is an 18-year-old amateur detective from the fictional town of River Heights in the United States. She is the only playable character in the game, which means the player must solve the mystery from her perspective. \\\n",
    "Kyler Mallory - Kyler is a stockbroker from London who lived with Nancy\\'s family as an exchange student four years ago. She is now engaged to Matt Simmons and is excited to hold her wedding at Castle Malloy. Her grandfather, Edmund Mallory, recently died and named her as his sole beneficiary. He never spoke about his childhood and Kyler is just now learning about her true family history. She is certain that Matt is playing a prank. \\\n",
    "Matt Simmons - Matt is a travel and sailing freelance writer for magazines. Known for his dry wit, he loves to play pranks on others. He\\'s marrying Kyler and wants to make the occasion something no one will ever forget, but has he gone too far this time? \\\n",
    "Kit Foley - Matt\\'s best friend and accomplice on sailing trips. Kit was born in the US, but his family moved to London when Kit was young. He was never able to pick up the British accent. He currently works as a land developer, and he arrived early to help Matt and Kyler prepare for their wedding. He believes that Matt got cold-feet and ran away, but he won\\'t admit that to Kyler. \\\n",
    "Donal Delany - Castle Malloy\\'s ever-present caretaker, Donal has been overseeing the grounds for too many years to count. This Irish-born gentleman isn\\'t particularly fond of foreigners, and he\\'s the first to admit it. He is the resident expert on Irish mythology and lore, which might explain his superstitious nature. He believes that Matt was kidnapped by fairies. \\\n",
    "Cast[edit] \\\n",
    "Nancy Drew - Lani Minella \\\n",
    "Donal Delany - Evan Mosher \\\n",
    "Kyler Mallory - Alycia Delmore \\\n",
    "Kit Foley - Matthew C. Shimkus \\\n",
    "Matt Simmons - Peter Dylan O\\'Connor \\\n",
    "Alan Paine - Daniel Christenson \\\n",
    "Ned Nickerson - Scott Carty \\\n",
    "Bess Marvin - Jennifer Pratt \\\n",
    "George Fayne - Patty Pomplun \\\n",
    "Seamus - Jonah Von Spreekin [3] \\\n",
    "Triples: \""
   ]
  },
  {
   "cell_type": "code",
   "execution_count": 44,
   "id": "57a20330",
   "metadata": {},
   "outputs": [
    {
     "name": "stdout",
     "output_type": "stream",
     "text": [
      "I'm sorry, but there is no text provided. Could you please provide the text you would like me to extract knowledge triplets from?\n"
     ]
    }
   ],
   "source": [
    "message = api.send_message(\n",
    "    input_text,\n",
    "    input_mode=\"INSTANT\",\n",
    "    continue_generating=True\n",
    ")\n",
    "print(message.response)"
   ]
  },
  {
   "cell_type": "code",
   "execution_count": 45,
   "id": "62d0d849",
   "metadata": {},
   "outputs": [
    {
     "name": "stdout",
     "output_type": "stream",
     "text": [
      "I'm sorry, but there is no text provided. Could you please provide the text you would like me to extract knowledge triplets from?\n"
     ]
    }
   ],
   "source": [
    "print(message.response)"
   ]
  },
  {
   "cell_type": "code",
   "execution_count": 21,
   "id": "683b3ec0",
   "metadata": {},
   "outputs": [],
   "source": [
    "api.refresh_chat_page()"
   ]
  },
  {
   "cell_type": "code",
   "execution_count": null,
   "id": "2b22a5cc",
   "metadata": {},
   "outputs": [],
   "source": []
  }
 ],
 "metadata": {
  "kernelspec": {
   "display_name": "Python 3 (ipykernel)",
   "language": "python",
   "name": "python3"
  },
  "language_info": {
   "codemirror_mode": {
    "name": "ipython",
    "version": 3
   },
   "file_extension": ".py",
   "mimetype": "text/x-python",
   "name": "python",
   "nbconvert_exporter": "python",
   "pygments_lexer": "ipython3",
   "version": "3.9.13"
  },
  "toc": {
   "base_numbering": 1,
   "nav_menu": {},
   "number_sections": true,
   "sideBar": true,
   "skip_h1_title": false,
   "title_cell": "Table of Contents",
   "title_sidebar": "Contents",
   "toc_cell": false,
   "toc_position": {},
   "toc_section_display": true,
   "toc_window_display": false
  }
 },
 "nbformat": 4,
 "nbformat_minor": 5
}
